{
 "cells": [
  {
   "cell_type": "code",
   "execution_count": 4,
   "metadata": {},
   "outputs": [],
   "source": [
    "# Importing libraries\n",
    "import os\n",
    "import pandas as pd\n",
    "import numpy as np\n",
    "import pandas_ta as ta\n",
    "import talib as ta2\n",
    "import plotly.express as px\n",
    "from datetime import date\n",
    "import plotly.graph_objects as go\n",
    "from yahooquery import Ticker\n",
    "\n",
    "# yahooquery wokrs better than yfinance\n",
    "# yahooquery project documentation: https://pypi.org/project/yahooquery/\n",
    "# yfinance project documentation: https://pypi.org/project/yfinance/\n",
    "# pandas_ta project documentation: https://twopirllc.github.io/pandas-ta/\n"
   ]
  },
  {
   "cell_type": "code",
   "execution_count": 5,
   "metadata": {},
   "outputs": [],
   "source": [
    "# Define functions to retrieve market data and create graphs\n",
    "\n",
    "def get_ticker(ticker):\n",
    "    try:\n",
    "        ticker = Ticker(ticker)\n",
    "        return ticker\n",
    "    except:\n",
    "        print('Error: Ticker not found')\n",
    "        return None\n",
    "\n",
    "def get_price_hist(ticker, period, interval):\n",
    "    hist = ticker.history(period=period, interval=interval)\n",
    "    hist = hist.reset_index()\n",
    "    # hist['date'] = pd.to_datetime(hist['date'])\n",
    "    # hist['date'] = hist['date'].dt.strftime('%Y-%m-%d')\n",
    "    return hist\n",
    "\n",
    "\n",
    "\n",
    "def get_financials(df, col_name, metric_name):\n",
    "    metric = df.loc[:, ['asOfDate', col_name]]\n",
    "    metric_df = pd.DataFrame(metric).reset_index()\n",
    "    metric_df.columns = ['Symbol', 'Year', metric_name]\n",
    "\n",
    "    return metric_df\n"
   ]
  },
  {
   "cell_type": "code",
   "execution_count": 25,
   "metadata": {},
   "outputs": [],
   "source": [
    "\n",
    "# Defining functions to detect patterns\n",
    "\n",
    "def is_consolidating(df, percentage=2, num_candlesticks=15):\n",
    "    recent_candlesticks = df[-num_candlesticks:]\n",
    "    \n",
    "    max_close = recent_candlesticks['close'].max()\n",
    "    min_close = recent_candlesticks['close'].min()\n",
    "\n",
    "    threshold = 1 - (percentage / 100)\n",
    "    if min_close > (max_close * threshold):\n",
    "        return True        \n",
    "\n",
    "    return False\n",
    "\n",
    "def is_breaking_out(df, percentage=2.5, num_candlesticks=15):\n",
    "    last_close = df[-1:]['close'].values[0]\n",
    "\n",
    "    if is_consolidating(df[:-1], percentage=percentage, num_candlesticks=num_candlesticks):\n",
    "        recent_closes = df[-num_candlesticks + 1 :-1]\n",
    "\n",
    "        if last_close > recent_closes['close'].max():\n",
    "            return True\n",
    "\n",
    "    return False\n",
    "\n"
   ]
  },
  {
   "cell_type": "code",
   "execution_count": 7,
   "metadata": {},
   "outputs": [],
   "source": [
    "# Simple Plot for fundamental financial data\n",
    "def line_chart(df, x, y, title):\n",
    "    fig = px.line(df, x=x, y=y, template='simple_white',\n",
    "                        title='<b>{} {}</b>'.format(name, title))\n",
    "\n",
    "    return fig\n",
    "\n",
    "def bar_chart(df, x, y, title):\n",
    "    fig = px.bar(df, x=x, y=y, template='simple_white',\n",
    "                        title='<b>{} {}</b>'.format(name, title))\n",
    "\n",
    "    return fig\n",
    "\n"
   ]
  },
  {
   "cell_type": "code",
   "execution_count": 8,
   "metadata": {},
   "outputs": [],
   "source": [
    "\n",
    "def plot_candlestick(df, slider=False, ma=False):\n",
    "    # Create figure\n",
    "    fig = go.Figure(data=[go.Candlestick(x=df['date'],\n",
    "                                         open=df['open'],\n",
    "                                         high=df['high'],\n",
    "                                         low=df['low'],\n",
    "                                         close=df['close'])]                                   \n",
    "                    )\n",
    "    # Add moving averages\n",
    "    if ma:\n",
    "        # Add the strategy to the DataFrame\n",
    "        df.ta.strategy(mvg_avg)\n",
    "        # Add EMA and SMA lines\n",
    "        fig.add_trace(go.Scatter(x=df['date'], y=df['EMA_50'], line=dict(color='pink', width=1), name='EMA 50'))\n",
    "        fig.add_trace(go.Scatter(x=df['date'], y=df['EMA_100'], line=dict(color='purple', width=1), name='EMA 100'))\n",
    "        fig.add_trace(go.Scatter(x=df['date'], y=df['SMA_200'], line=dict(color='red', width=2), name='SMA 200'))\n",
    "    else:\n",
    "        pass\n",
    "    # Change figure size\n",
    "    fig.update_layout(\n",
    "        autosize=True,\n",
    "        width=1000,\n",
    "        height=600\n",
    "        )\n",
    "    \n",
    "\n",
    "    # Add title and xaxis\n",
    "    fig.update_layout(\n",
    "        title=f'{ticker_string.upper()} Stock Price',\n",
    "        xaxis_rangeslider_visible=slider,\n",
    "        xaxis_title='Date',\n",
    "        yaxis_title='Price',\n",
    "        font=dict(\n",
    "            family=\"Courier New, monospace\",\n",
    "            size=18,\n",
    "            color=\"#7f7f7f\"\n",
    "        )\n",
    "    )\n",
    "    return fig\n"
   ]
  },
  {
   "cell_type": "markdown",
   "metadata": {},
   "source": [
    "# Goal\n",
    "================\n",
    "* Iterate through a list of tickers\n",
    "* Retrieve historical data from Yahoo Finance\n",
    "* Determine range bound patterns in the data such as channels and triangles\n",
    "* Check which tickers are in a Channel, Triangle or Wedge Patterns\n",
    "* Determine likely breakout candidates\n",
    "* Determine likely breakdown candidates\n",
    "* Determine likely range bound candidates\n",
    "\n",
    "Example Tickers:\n",
    "================\n",
    "* MYRG\n",
    "* HAE\n",
    "* LVMUY\n",
    "\n",
    "\n"
   ]
  },
  {
   "cell_type": "markdown",
   "metadata": {},
   "source": [
    "Technical Indicators Definitions and Examples\n",
    "================\n",
    "https://library.tradingtechnologies.com/trade/chrt-technical-indicators.html\n",
    "\n",
    "Chart Patterns\n",
    "================\n",
    "https://www.incrediblecharts.com/technical/chart_patterns.php\n"
   ]
  },
  {
   "cell_type": "markdown",
   "metadata": {},
   "source": [
    "#  Average directional index (ADX)\n",
    "ADX is used to quantify **trend strength**.\n",
    "\n",
    "| ADX Value | Trend Strength           |\n",
    "|-----------|-------------------------|\n",
    "| 0-25      | Absent or Weak Trend     |\n",
    "| 25-50     | Strong Trend             |\n",
    "| 50-75     | Very Strong Trend        |\n",
    "| 75-100    | Extremely Strong Trend   |\n"
   ]
  },
  {
   "cell_type": "code",
   "execution_count": 10,
   "metadata": {},
   "outputs": [],
   "source": [
    "# Create a Strategy\n",
    "mvg_avg = ta.Strategy(name=\"Dual_emas\", ta=[{\"kind\": \"ema\", \"length\": 50}, {\"kind\": \"ema\", \"length\": 100}, {\"kind\": \"sma\", \"length\": 200}])"
   ]
  },
  {
   "cell_type": "markdown",
   "metadata": {},
   "source": [
    "# Retrieve Historical Data from Yahoo Finance"
   ]
  },
  {
   "cell_type": "code",
   "execution_count": 18,
   "metadata": {},
   "outputs": [],
   "source": [
    "# Get the current working directory\n",
    "cwd = os.getcwd()\n",
    "\n",
    "# Remove the last folder name from the current working directory to get the path to the parent folder\n",
    "path = cwd[:-len(os.path.basename(cwd))]\n",
    "\n",
    "\n",
    "# Define amount of data to retrieve\n",
    "period_option = '5y'\n",
    "interval_option = '1wk' # interval options: 1d, 1wk, 1mo\n",
    "\n",
    "# # Get today's date\n",
    "# today = date.today()\n",
    "\n",
    "# # Enter company ticker. \n",
    "# ticker_string = input('Enter company ticker: ')\n",
    "\n",
    "# # trim user input string\n",
    "# ticker_string = str(ticker_string.lower()).strip()\n",
    "\n",
    "# # today = date.today()\n",
    "\n",
    "# # Pass the user input to the yahooquery library\n",
    "# ticker = get_ticker(ticker_string)\n",
    "\n",
    "# # Get price history\n",
    "# stock_df = get_price_hist(ticker=ticker, period=period_option, interval=interval_option)\n"
   ]
  },
  {
   "cell_type": "code",
   "execution_count": 13,
   "metadata": {},
   "outputs": [],
   "source": [
    "import os\n",
    "\n",
    "def save_price_history(ticker_or_df, period_option, interval_option):\n",
    "    # Get the current working directory\n",
    "    cwd = os.getcwd()\n",
    "\n",
    "    # Remove the last folder name from the current working directory to get the path to the parent folder\n",
    "    path = cwd[:-len(os.path.basename(cwd))]\n",
    "\n",
    "    # Define the path to daily or weekly stock data\n",
    "    if interval_option == '1wk':\n",
    "        data_path = path + 'datasets\\\\weekly\\\\'\n",
    "    elif interval_option == '1d':\n",
    "        data_path = path + 'datasets\\\\daily\\\\'\n",
    "    else:\n",
    "        print(\"Invalid interval option. Please choose '1wk' or '1d'.\")\n",
    "        return\n",
    "\n",
    "    # Check if the input is a single ticker value or a dataframe\n",
    "    if isinstance(ticker_or_df, str):\n",
    "        # Single ticker value\n",
    "        ticker_string = ticker_or_df.lower().strip()\n",
    "        ticker = get_ticker(ticker_string)\n",
    "        file_name = ticker_string + '.csv'\n",
    "        file_path = data_path + file_name\n",
    "\n",
    "        # Get price history\n",
    "        stock_df = get_price_hist(ticker=ticker, period=period_option, interval=interval_option)\n",
    "\n",
    "        # Save price history as CSV file\n",
    "        stock_df.to_csv(file_path, index=False)\n",
    "        print(f\"Price history for {ticker_string} saved as {file_name}.\")\n",
    "    elif isinstance(ticker_or_df, pd.DataFrame):\n",
    "        # Dataframe\n",
    "        tickers = ticker_or_df['Holding Ticker'].tolist()\n",
    "\n",
    "        for ticker_string in tickers:\n",
    "            ticker_string = ticker_string.lower().strip()\n",
    "            ticker = get_ticker(ticker_string)\n",
    "            file_name = ticker_string + '.csv'\n",
    "            file_path = data_path + file_name\n",
    "\n",
    "            # Get price history\n",
    "            stock_df = get_price_hist(ticker=ticker, period=period_option, interval=interval_option)\n",
    "\n",
    "            # Save price history as CSV file\n",
    "            stock_df.to_csv(file_path, index=False)\n",
    "            print(f\"Price history for {ticker_string} saved as {file_name}.\")\n",
    "    else:\n",
    "        print(\"Invalid input. Please provide a single ticker value or a dataframe.\")\n"
   ]
  },
  {
   "cell_type": "code",
   "execution_count": 14,
   "metadata": {},
   "outputs": [
    {
     "name": "stdout",
     "output_type": "stream",
     "text": [
      "Price history for aapl saved as aapl.csv.\n"
     ]
    }
   ],
   "source": [
    "# Test function with single ticker input\n",
    "save_price_history(ticker_or_df='AAPL', period_option='5y', interval_option='1wk')"
   ]
  },
  {
   "cell_type": "code",
   "execution_count": 17,
   "metadata": {},
   "outputs": [
    {
     "name": "stdout",
     "output_type": "stream",
     "text": [
      "Price history for acic saved as acic.csv.\n",
      "Price history for amr saved as amr.csv.\n",
      "Price history for caba saved as caba.csv.\n",
      "Price history for hnrg saved as hnrg.csv.\n",
      "Price history for mod saved as mod.csv.\n",
      "Price history for cbay saved as cbay.csv.\n",
      "Price history for nog saved as nog.csv.\n",
      "Price history for dfin saved as dfin.csv.\n",
      "Price history for lmb saved as lmb.csv.\n",
      "Price history for trns saved as trns.csv.\n",
      "Price history for nuvl saved as nuvl.csv.\n",
      "Price history for px saved as px.csv.\n",
      "Price history for olma saved as olma.csv.\n",
      "Price history for cvna saved as cvna.csv.\n",
      "Price history for mltx saved as mltx.csv.\n",
      "Price history for coop saved as coop.csv.\n",
      "Price history for kai saved as kai.csv.\n",
      "Price history for tdw saved as tdw.csv.\n",
      "Price history for strl saved as strl.csv.\n",
      "Price history for kntk saved as kntk.csv.\n",
      "Price history for spxc saved as spxc.csv.\n",
      "Price history for dakt saved as dakt.csv.\n",
      "Price history for gne saved as gne.csv.\n",
      "Price history for bvh saved as bvh.csv.\n",
      "Price history for vktx saved as vktx.csv.\n",
      "Price history for tmst saved as tmst.csv.\n",
      "Price history for hri saved as hri.csv.\n",
      "Price history for mtsi saved as mtsi.csv.\n",
      "Price history for tast saved as tast.csv.\n",
      "Price history for alg saved as alg.csv.\n",
      "Price history for powl saved as powl.csv.\n",
      "Price history for cbz saved as cbz.csv.\n",
      "Price history for nsit saved as nsit.csv.\n",
      "Price history for arcb saved as arcb.csv.\n",
      "Price history for gpi saved as gpi.csv.\n",
      "Price history for smhi saved as smhi.csv.\n",
      "Price history for anf saved as anf.csv.\n",
      "Price history for gpre saved as gpre.csv.\n",
      "Price history for ceco saved as ceco.csv.\n",
      "Price history for ionq saved as ionq.csv.\n",
      "Price history for aehr saved as aehr.csv.\n",
      "Price history for lpg saved as lpg.csv.\n",
      "Price history for imgn saved as imgn.csv.\n",
      "Price history for bcc saved as bcc.csv.\n",
      "Price history for bmi saved as bmi.csv.\n",
      "Price history for tipt saved as tipt.csv.\n",
      "Price history for nbn saved as nbn.csv.\n",
      "Price history for cvlg saved as cvlg.csv.\n",
      "Price history for cwco saved as cwco.csv.\n",
      "Price history for crc saved as crc.csv.\n",
      "Price history for iron saved as iron.csv.\n",
      "Price history for do saved as do.csv.\n",
      "Price history for verx saved as verx.csv.\n",
      "Price history for skt saved as skt.csv.\n",
      "Price history for fss saved as fss.csv.\n",
      "Price history for cdre saved as cdre.csv.\n",
      "Price history for rngr saved as rngr.csv.\n",
      "Price history for myrg saved as myrg.csv.\n",
      "Price history for ofg saved as ofg.csv.\n",
      "Price history for jill saved as jill.csv.\n",
      "Price history for ftai saved as ftai.csv.\n",
      "Price history for achr saved as achr.csv.\n",
      "Price history for ktb saved as ktb.csv.\n",
      "Price history for aroc saved as aroc.csv.\n",
      "Price history for atlx saved as atlx.csv.\n",
      "Price history for cvrx saved as cvrx.csv.\n",
      "Price history for antx saved as antx.csv.\n",
      "Price history for cswi saved as cswi.csv.\n",
      "Price history for gva saved as gva.csv.\n",
      "Price history for thr saved as thr.csv.\n",
      "Price history for tgtx saved as tgtx.csv.\n",
      "Price history for vra saved as vra.csv.\n",
      "Price history for gms saved as gms.csv.\n",
      "Price history for crs saved as crs.csv.\n",
      "Price history for mbin saved as mbin.csv.\n",
      "Price history for nr saved as nr.csv.\n",
      "Price history for hlx saved as hlx.csv.\n",
      "Price history for wina saved as wina.csv.\n",
      "Price history for rxst saved as rxst.csv.\n",
      "Price history for rphm saved as rphm.csv.\n",
      "Price history for avav saved as avav.csv.\n",
      "Price history for for saved as for.csv.\n",
      "Price history for brbr saved as brbr.csv.\n",
      "Price history for mho saved as mho.csv.\n",
      "Price history for gff saved as gff.csv.\n",
      "Price history for gpor saved as gpor.csv.\n",
      "Price history for air saved as air.csv.\n",
      "Price history for fbp saved as fbp.csv.\n",
      "Price history for mli saved as mli.csv.\n",
      "Price history for hrb saved as hrb.csv.\n",
      "Price history for skyw saved as skyw.csv.\n",
      "Price history for cmpr saved as cmpr.csv.\n",
      "Price history for ges saved as ges.csv.\n",
      "Price history for appf saved as appf.csv.\n",
      "Price history for vsec saved as vsec.csv.\n",
      "Price history for giii saved as giii.csv.\n",
      "Price history for parr saved as parr.csv.\n",
      "Price history for esab saved as esab.csv.\n",
      "Price history for afrm saved as afrm.csv.\n",
      "Price history for vctr saved as vctr.csv.\n",
      "Price history for icfi saved as icfi.csv.\n",
      "Price history for ago saved as ago.csv.\n",
      "Price history for matx saved as matx.csv.\n",
      "Price history for lbrt saved as lbrt.csv.\n",
      "Price history for tds saved as tds.csv.\n",
      "Price history for abg saved as abg.csv.\n",
      "Price history for usm saved as usm.csv.\n",
      "Price history for hees saved as hees.csv.\n",
      "Price history for grpn saved as grpn.csv.\n",
      "Price history for idya saved as idya.csv.\n",
      "Price history for ande saved as ande.csv.\n",
      "Price history for prdo saved as prdo.csv.\n",
      "Price history for hli saved as hli.csv.\n",
      "Price history for nwli saved as nwli.csv.\n",
      "Price history for hwkn saved as hwkn.csv.\n",
      "Price history for olli saved as olli.csv.\n",
      "Price history for ctlp saved as ctlp.csv.\n",
      "Price history for kop saved as kop.csv.\n",
      "Price history for hayn saved as hayn.csv.\n",
      "Price history for esq saved as esq.csv.\n",
      "Price history for sum saved as sum.csv.\n",
      "Price history for cash saved as cash.csv.\n",
      "Price history for rusha saved as rusha.csv.\n",
      "Price history for pay saved as pay.csv.\n",
      "Price history for sfm saved as sfm.csv.\n",
      "Price history for veco saved as veco.csv.\n",
      "Price history for alpn saved as alpn.csv.\n",
      "Price history for hurn saved as hurn.csv.\n",
      "Price history for agm saved as agm.csv.\n",
      "Price history for mtg saved as mtg.csv.\n",
      "Price history for flr saved as flr.csv.\n",
      "Price history for golf saved as golf.csv.\n",
      "Price history for uslm saved as uslm.csv.\n",
      "Price history for pipr saved as pipr.csv.\n",
      "Price history for mgrc saved as mgrc.csv.\n",
      "Price history for acva saved as acva.csv.\n",
      "Price history for banf saved as banf.csv.\n",
      "Price history for npo saved as npo.csv.\n",
      "Price history for ceix saved as ceix.csv.\n",
      "Price history for petq saved as petq.csv.\n",
      "Price history for iot saved as iot.csv.\n",
      "Price history for dmrc saved as dmrc.csv.\n",
      "Price history for pr saved as pr.csv.\n",
      "Price history for ottr saved as ottr.csv.\n",
      "Price history for cnx saved as cnx.csv.\n",
      "Price history for fele saved as fele.csv.\n",
      "Price history for joe saved as joe.csv.\n",
      "Price history for hae saved as hae.csv.\n",
      "Price history for gnw saved as gnw.csv.\n",
      "Price history for iesc saved as iesc.csv.\n",
      "Price history for krys saved as krys.csv.\n",
      "Price history for gshd saved as gshd.csv.\n",
      "Price history for qtrx saved as qtrx.csv.\n",
      "Price history for ain saved as ain.csv.\n",
      "Price history for bbw saved as bbw.csv.\n",
      "Price history for hckt saved as hckt.csv.\n",
      "Price history for ccb saved as ccb.csv.\n",
      "Price history for cxt saved as cxt.csv.\n",
      "Price history for sxc saved as sxc.csv.\n",
      "Price history for mgpi saved as mgpi.csv.\n",
      "Price history for odc saved as odc.csv.\n",
      "Price history for oii saved as oii.csv.\n",
      "Price history for ryan saved as ryan.csv.\n",
      "Price history for sxi saved as sxi.csv.\n",
      "Price history for kex saved as kex.csv.\n",
      "Price history for adnt saved as adnt.csv.\n",
      "Price history for tex saved as tex.csv.\n",
      "Price history for fc saved as fc.csv.\n",
      "Price history for etd saved as etd.csv.\n",
      "Price history for oabi saved as oabi.csv.\n",
      "Price history for tngx saved as tngx.csv.\n",
      "Price history for fsly saved as fsly.csv.\n",
      "Price history for ois saved as ois.csv.\n",
      "Price history for res saved as res.csv.\n",
      "Price history for plpc saved as plpc.csv.\n",
      "Price history for enva saved as enva.csv.\n",
      "Price history for arlo saved as arlo.csv.\n",
      "Price history for nn saved as nn.csv.\n",
      "Price history for anip saved as anip.csv.\n",
      "Price history for gkos saved as gkos.csv.\n",
      "Price history for hov saved as hov.csv.\n",
      "Price history for lyts saved as lyts.csv.\n",
      "Price history for mdxg saved as mdxg.csv.\n",
      "Price history for abr saved as abr.csv.\n",
      "Price history for oric saved as oric.csv.\n",
      "Price history for wrld saved as wrld.csv.\n",
      "Price history for cnk saved as cnk.csv.\n",
      "Price history for vera saved as vera.csv.\n",
      "Price history for fold saved as fold.csv.\n",
      "Price history for cmt saved as cmt.csv.\n",
      "Price history for ffwm saved as ffwm.csv.\n",
      "Price history for tti saved as tti.csv.\n",
      "Price history for cort saved as cort.csv.\n",
      "Price history for bdc saved as bdc.csv.\n",
      "Price history for akro saved as akro.csv.\n",
      "Price history for xpro saved as xpro.csv.\n",
      "Price history for ww saved as ww.csv.\n",
      "Price history for lnza saved as lnza.csv.\n",
      "Price history for cdlx saved as cdlx.csv.\n",
      "Price history for oprt saved as oprt.csv.\n",
      "Price history for agpxx saved as agpxx.csv.\n",
      "Price history for -cash- saved as -cash-.csv.\n"
     ]
    }
   ],
   "source": [
    "# Test function with dataframe input\n",
    "\n",
    "# Define holdings dataframe\n",
    "holdings_df = pd.read_csv(path + 'datasets\\\\holdings.csv')\n",
    "\n",
    "save_price_history(ticker_or_df=holdings_df, period_option='5y', interval_option='1wk')"
   ]
  },
  {
   "cell_type": "code",
   "execution_count": 28,
   "metadata": {},
   "outputs": [],
   "source": [
    "# Define a list of all the daily data files\n",
    "\n",
    "# Define the path to daily stock data\n",
    "daily_data_path = path + 'datasets\\\\daily\\\\'\n",
    "\n",
    "daily_data_files = os.listdir(daily_data_path)\n",
    "\n",
    "# Define a list of all the weekly data files\n",
    "\n",
    "# Define the path to weekly stock data\n",
    "weekly_data_path = path + 'datasets\\\\weekly\\\\'\n",
    "\n",
    "weekly_data_files = os.listdir(weekly_data_path)\n",
    "\n",
    "\n",
    "\n",
    "# Process all the stock data files\n",
    "for filename in weekly_data_files[:10]:\n",
    "    df = pd.read_csv(weekly_data_path + filename)\n",
    "    \n",
    "    if is_consolidating(df, percentage=2.5, num_candlesticks=15):\n",
    "        print(\"{} is consolidating\".format(filename))\n",
    "    if is_breaking_out(df, percentage=2.5, num_candlesticks=15):\n",
    "        print(\"{} is breaking out\".format(filename))\n"
   ]
  },
  {
   "cell_type": "code",
   "execution_count": 29,
   "metadata": {},
   "outputs": [
    {
     "data": {
      "application/vnd.plotly.v1+json": {
       "config": {
        "plotlyServerURL": "https://plot.ly"
       },
       "data": [
        {
         "close": [
          67.75,
          66.41000366210938,
          66.05999755859375,
          60.56999969482422,
          57.220001220703125,
          58.810001373291016,
          61.09000015258789,
          65.20999908447266,
          68.66999816894531,
          72.33000183105469,
          70.94999694824219,
          71.77999877929688,
          70.43000030517578,
          72.4800033569336,
          81.05000305175781,
          82.16000366210938,
          76.5,
          77.91000366210938,
          69.37000274658203,
          72.43000030517578,
          75.83000183105469,
          76.55999755859375,
          74.9000015258789,
          76.33000183105469,
          80.75,
          76.33999633789062,
          72.94999694824219,
          71.44000244140625,
          68.43000030517578,
          70.36000061035156,
          71.55000305175781,
          70.27999877929688,
          72.66000366210938,
          73.22000122070312,
          75.0199966430664,
          74.06999969482422,
          75.72000122070312,
          78.30999755859375,
          77.5999984741211,
          77.95999908447266,
          79.80000305175781,
          82.3499984741211,
          80.56999969482422,
          87,
          81.83999633789062,
          82.12000274658203,
          80.95999908447266,
          81.88999938964844,
          85.05999755859375,
          84.36000061035156,
          86.62000274658203,
          83.9000015258789,
          82.68000030517578,
          81.16999816894531,
          83.05000305175781,
          82.58000183105469,
          81.27999877929688,
          86.37999725341797,
          84.2300033569336,
          83.31999969482422,
          82.12000274658203,
          82.69999694824219,
          81.08999633789062,
          76.30000305175781,
          72.4000015258789,
          72.26000213623047,
          71.9800033569336,
          75.05999755859375,
          72.5999984741211,
          56.31999969482422,
          43.02000045776367,
          54.119998931884766,
          49.619998931884766,
          63.09999847412109,
          57.16999816894531,
          58.560001373291016,
          63.66999816894531,
          63.38999938964844,
          58.06999969482422,
          63.16999816894531,
          64.12999725341797,
          73.75,
          65.5,
          67.29000091552734,
          59.93000030517578,
          61.880001068115234,
          61.060001373291016,
          60.959999084472656,
          60.27999877929688,
          59.5099983215332,
          63.45000076293945,
          70.5,
          67.2300033569336,
          69.27999877929688,
          71.2300033569336,
          66.80999755859375,
          65.30000305175781,
          64.63999938964844,
          65.69000244140625,
          67.52999877929688,
          69.31999969482422,
          69.18000030517578,
          64.58999633789062,
          64.55000305175781,
          67.47000122070312,
          67.66000366210938,
          68.94000244140625,
          71.26000213623047,
          76.45999908447266,
          73.5199966430664,
          73.8499984741211,
          74.25,
          78.16000366210938,
          80.43000030517578,
          79.5,
          76,
          80.02999877929688,
          84.0999984741211,
          83.11000061035156,
          86.25,
          90.3499984741211,
          99.5,
          102.44000244140624,
          101.1999969482422,
          101.69000244140624,
          100.26000213623048,
          100.7300033569336,
          100.81999969482422,
          102.86000061035156,
          102.29000091552734,
          103.16000366210938,
          102.1500015258789,
          101.45999908447266,
          100.20999908447266,
          103.91000366210938,
          97.38999938964844,
          103.63999938964844,
          100.30999755859376,
          98.91999816894533,
          96.36000061035156,
          96.72000122070312,
          97.5,
          98.06999969482422,
          99.6999969482422,
          98.33999633789062,
          99.11000061035156,
          100.98999786376952,
          98.62000274658205,
          100.27999877929688,
          105.91999816894533,
          112.9499969482422,
          116.12999725341795,
          118.0999984741211,
          121.93000030517578,
          126.08999633789062,
          133.91000366210938,
          131.7899932861328,
          126.5199966430664,
          123.81999969482422,
          121.25,
          121.48999786376952,
          117.01000213623048,
          120.66999816894533,
          123.93000030517578,
          127.66999816894533,
          128.9499969482422,
          123.16999816894533,
          119.37000274658205,
          123.7699966430664,
          123.8000030517578,
          124.83000183105467,
          124.0999984741211,
          118.18000030517578,
          123.22000122070312,
          119.2699966430664,
          117.08999633789062,
          110.33000183105467,
          108.88999938964844,
          109.61000061035156,
          105.63999938964844,
          102.43000030517578,
          106.54000091552734,
          100.62999725341795,
          99.08000183105467,
          103.75,
          102.62000274658205,
          95.22000122070312,
          93.62999725341795,
          98.29000091552734,
          98.86000061035156,
          98.12999725341795,
          96.51000213623048,
          100.61000061035156,
          110.29000091552734,
          109.06999969482422,
          115.81999969482422,
          114.27999877929688,
          111.2300033569336,
          108.18000030517578,
          106.45999908447266,
          105.0199966430664,
          103.5500030517578,
          99.13999938964844,
          101.12000274658205,
          104.86000061035156,
          107.70999908447266,
          114.45999908447266,
          115.33000183105467,
          121.51000213623048,
          124.19000244140624,
          126.81999969482422,
          125.25,
          119.05999755859376,
          115.2300033569336,
          113.98999786376952,
          112.70999908447266,
          120.75,
          124.8000030517578,
          123.93000030517578,
          132.22000122070312,
          134.72000122070312,
          138.67999267578125,
          139.44000244140625,
          141.0800018310547,
          147.5,
          130.2100067138672,
          126.13999938964844,
          125.3499984741211,
          133.19000244140625,
          133.08999633789062,
          131.0500030517578,
          135.8699951171875,
          133.2899932861328,
          129.8800048828125,
          128.75999450683594,
          140.92999267578125,
          136.3699951171875,
          140.80999755859375,
          150.58999633789062,
          148.5,
          140.97000122070312,
          143.74000549316406,
          139.69000244140625,
          149.97000122070312,
          156.3800048828125,
          160.05999755859375,
          165.89999389648438,
          179.41000366210938,
          171.19000244140625,
          166.92999267578125,
          170.4199981689453,
          167.91000366210938,
          165.66000366210938,
          157.75999450683594,
          154.3000030517578,
          150.67999267578125,
          145.94000244140625,
          141.85000610351562,
          144.94000244140625,
          162.8300018310547,
          158.13999938964844,
          163.0399932861328,
          163.0399932861328
         ],
         "high": [
          68.56999969482422,
          68.6500015258789,
          68.83999633789062,
          67.0199966430664,
          61.7599983215332,
          59.88999938964844,
          61.22999954223633,
          66.22000122070312,
          69.4800033569336,
          73.8499984741211,
          73.37000274658203,
          73.75,
          73.22000122070312,
          73,
          82.3499984741211,
          84.16000366210938,
          82.75,
          79.61000061035156,
          79.55000305175781,
          74.55999755859375,
          76,
          78.58999633789062,
          77.86000061035156,
          76.86000061035156,
          81.9800033569336,
          81.5,
          76.06999969482422,
          75.12999725341797,
          71.41999816894531,
          72.68000030517578,
          72.58000183105469,
          72.98999786376953,
          73.62000274658203,
          74.27999877929688,
          75.12000274658203,
          76.05999755859375,
          75.87999725341797,
          83.55000305175781,
          78.54000091552734,
          78.5,
          83.12999725341797,
          83.62000274658203,
          82.76000213623047,
          87.66999816894531,
          87.5,
          85.23999786376953,
          83.44999694824219,
          82.9000015258789,
          85.41000366210938,
          86.97000122070312,
          86.79000091552734,
          88.45999908447266,
          83.4000015258789,
          83.75,
          83.95999908447266,
          84.12000274658203,
          83.7699966430664,
          86.63999938964844,
          87,
          84.58999633789062,
          83.79000091552734,
          84.12999725341797,
          82.86000061035156,
          81.16999816894531,
          76.6500015258789,
          74.27999877929688,
          75.98999786376953,
          76.55999755859375,
          77.5,
          72.80999755859375,
          55.900001525878906,
          57.790000915527344,
          56.04999923706055,
          63.81999969482422,
          62.220001220703125,
          59.34999847412109,
          68.04000091552734,
          65.06999969482422,
          63.59999847412109,
          64.29000091552734,
          68.44000244140625,
          74.68000030517578,
          76.47000122070312,
          71.16999816894531,
          67.86000061035156,
          64.58999633789062,
          63.27999877929688,
          62.7400016784668,
          62.2599983215332,
          61.83000183105469,
          63.68999862670898,
          71.91000366210938,
          70.6500015258789,
          69.37000274658203,
          73.41999816894531,
          71.29000091552734,
          69.19000244140625,
          65.11000061035156,
          66.93000030517578,
          68.80999755859375,
          69.37000274658203,
          70.23999786376953,
          69.5999984741211,
          67.44000244140625,
          72.31999969482422,
          70.5,
          71.5,
          71.36000061035156,
          77.04000091552734,
          77.20999908447266,
          75.29000091552734,
          76.0999984741211,
          83.05999755859375,
          81.19999694824219,
          80.94000244140625,
          79.4800033569336,
          80.37999725341797,
          84.69000244140625,
          84.97000122070312,
          90.6999969482422,
          92.58999633789062,
          99.80999755859376,
          102.83999633789062,
          102.7300033569336,
          102,
          103.5999984741211,
          102.0199966430664,
          102.48999786376952,
          103.12000274658205,
          111.87999725341795,
          103.66999816894533,
          105.01000213623048,
          103.83000183105467,
          103.5500030517578,
          103.9800033569336,
          104.38999938964844,
          104.8000030517578,
          103.4000015258789,
          100.58000183105467,
          99.87999725341795,
          98.55999755859376,
          98.9800033569336,
          99.9000015258789,
          100.41999816894533,
          100.16999816894533,
          99.43000030517578,
          101,
          101.70999908447266,
          100.52999877929688,
          106.23999786376952,
          113.08999633789062,
          116.23999786376952,
          120.5999984741211,
          122.4000015258789,
          126.4000015258789,
          134.83999633789062,
          137.00999450683594,
          131.9499969482422,
          131.0399932861328,
          125.93000030517578,
          126.26000213623048,
          121.62999725341795,
          122.18000030517578,
          125.33999633789062,
          129.08999633789062,
          130.61000061035156,
          128.35000610351562,
          125.4000015258789,
          124.7300033569336,
          126.43000030517578,
          127.20999908447266,
          125.58999633789062,
          127.08000183105467,
          123.87000274658205,
          130.02999877929688,
          123.23999786376952,
          116,
          111.44000244140624,
          111.54000091552734,
          114.55999755859376,
          105.88999938964844,
          107.9800033569336,
          106.75,
          105.5,
          105.08000183105467,
          106.0500030517578,
          105.0999984741211,
          95.11000061035156,
          99.26000213623048,
          99.44000244140624,
          99.1500015258789,
          99.1999969482422,
          102.23999786376952,
          111.23999786376952,
          110.5,
          116.06999969482422,
          116.77999877929688,
          115.1999969482422,
          111.77999877929688,
          108.55999755859376,
          107.5999984741211,
          111.25,
          104.81999969482422,
          106.68000030517578,
          109.4000015258789,
          108.79000091552734,
          115.69000244140624,
          117.97000122070312,
          123.86000061035156,
          124.91999816894533,
          127.87999725341795,
          126.75,
          124.29000091552734,
          123.37999725341795,
          117.08999633789062,
          115.54000091552734,
          121.8499984741211,
          126.52999877929688,
          125.75,
          134.74000549316406,
          135.9600067138672,
          139.2100067138672,
          140.3699951171875,
          141.89999389648438,
          148.5,
          149.3699951171875,
          133.07000732421875,
          133.3000030517578,
          134.88999938964844,
          136,
          134.1300048828125,
          137.89999389648438,
          137.36000061035156,
          135,
          133.02000427246094,
          143.02000427246094,
          142.14999389648438,
          140.94000244140625,
          151.02000427246094,
          153.5399932861328,
          148.5399932861328,
          145.41000366210938,
          145.3000030517578,
          150,
          157.5,
          161.14999389648438,
          168.1300048828125,
          180.02000427246094,
          180.16000366210935,
          172.08999633789062,
          171.99000549316406,
          170.24000549316406,
          169.16000366210938,
          167.42999267578125,
          159.27999877929688,
          154.38999938964844,
          153.72000122070312,
          152.1300048828125,
          147,
          164.44000244140625,
          162.47000122070312,
          169.4199981689453,
          166.25999450683594
         ],
         "low": [
          66.75,
          64.55000305175781,
          63.400001525878906,
          59.709999084472656,
          55.63999938964844,
          56.16999816894531,
          56.459999084472656,
          59.52999877929688,
          64.2300033569336,
          66.73999786376953,
          69.7300033569336,
          69.91000366210938,
          67.94999694824219,
          69.20999908447266,
          69.19000244140625,
          79.94999694824219,
          75.02999877929688,
          76.01000213623047,
          68.1500015258789,
          69.37999725341797,
          72.51000213623047,
          73.9000015258789,
          74.70999908447266,
          73.58999633789062,
          75.69000244140625,
          73.63999938964844,
          71.97000122070312,
          69.97000122070312,
          67.26000213623047,
          68.4800033569336,
          70.37000274658203,
          70.27999877929688,
          67.22000122070312,
          70.26000213623047,
          72.37000274658203,
          73.63999938964844,
          72.05000305175781,
          75.26000213623047,
          73.08000183105469,
          74.79000091552734,
          78.0199966430664,
          78.63999938964844,
          79.0999984741211,
          80.5,
          81.63999938964844,
          80.8499984741211,
          78.52999877929688,
          78.87999725341797,
          80.91000366210938,
          83.55999755859375,
          82.69999694824219,
          81.13999938964844,
          81,
          80.45999908447266,
          81.45999908447266,
          80.12000274658203,
          80.68000030517578,
          81.7300033569336,
          83.44999694824219,
          82.12999725341797,
          81.51000213623047,
          81.2699966430664,
          80.36000061035156,
          75.8499984741211,
          71.97000122070312,
          71.30000305175781,
          71.69000244140625,
          68.5,
          70.66000366210938,
          54.040000915527344,
          42.790000915527344,
          40.04999923706055,
          49.22999954223633,
          51.9900016784668,
          51.06999969482422,
          55.369998931884766,
          58.75,
          59.5,
          52.27000045776367,
          58.5099983215332,
          63.540000915527344,
          63.040000915527344,
          63.16999816894531,
          63.86000061035156,
          59.77999877929688,
          59.900001525878906,
          57.060001373291016,
          58.81999969482422,
          59.25,
          58.25,
          59.13999938964844,
          64,
          65.69000244140625,
          67.0199966430664,
          67.4000015258789,
          66.02999877929688,
          64.77999877929688,
          61.790000915527344,
          62.75,
          65.70999908447266,
          66.27999877929688,
          68.45999908447266,
          62.56999969482422,
          63.040000915527344,
          65.51000213623047,
          66.80000305175781,
          67.55999755859375,
          67.52999877929688,
          71,
          71.66000366210938,
          71.01000213623047,
          72.97000122070312,
          73.13999938964844,
          77.04000091552734,
          77.25,
          74.5,
          75.70999908447266,
          80.8499984741211,
          81.77999877929688,
          82.51000213623047,
          86.31999969482422,
          90.3499984741211,
          96.9499969482422,
          94.5,
          97.83999633789062,
          98.7300033569336,
          96.58999633789062,
          98.04000091552734,
          100.18000030517578,
          100.62999725341795,
          95.3000030517578,
          99.75,
          98.6999969482422,
          99.20999908447266,
          99.01000213623048,
          97.12000274658205,
          98.2699966430664,
          97.05999755859376,
          94.51000213623048,
          95.37000274658205,
          94.1999969482422,
          96.22000122070312,
          94.44000244140624,
          97.04000091552734,
          96.26000213623048,
          95.5999984741211,
          96.75,
          98.0999984741211,
          96.4499969482422,
          97.9800033569336,
          106.7300033569336,
          111.6500015258789,
          114.9000015258789,
          116.5199966430664,
          120.01000213623048,
          126.08999633789062,
          127.37000274658205,
          125.0199966430664,
          120.38999938964844,
          119.16000366210938,
          120.73999786376952,
          115.43000030517578,
          112.8000030517578,
          120.2699966430664,
          123.19000244140624,
          124.91999816894533,
          122.9800033569336,
          115.20999908447266,
          117.79000091552734,
          122.19000244140624,
          120.77999877929688,
          115.95999908447266,
          115.38999938964844,
          114.9499969482422,
          118.4000015258789,
          115.01000213623048,
          107.56999969482422,
          104.16999816894533,
          107.86000061035156,
          105.48999786376952,
          101.2300033569336,
          100.9000015258789,
          98.38999938964844,
          97.3499984741211,
          98.93000030517578,
          102.36000061035156,
          95.20999908447266,
          90.37999725341795,
          94.52999877929688,
          94.77999877929688,
          95.43000030517578,
          92.43000030517578,
          97.0199966430664,
          102.0199966430664,
          105.02999877929688,
          108.72000122070312,
          113.27999877929688,
          111.16999816894533,
          107.5,
          106.04000091552734,
          101.98999786376952,
          102.23999786376952,
          97.76000213623048,
          98.23999786376952,
          100.01000213623048,
          104.72000122070312,
          106.6500015258789,
          111.63999938964844,
          113.1999969482422,
          120.73999786376952,
          123.23999786376952,
          122.75,
          117.87999725341795,
          113.47000122070312,
          111.8000030517578,
          111.27999877929688,
          112.47000122070312,
          117.94000244140624,
          118.43000030517578,
          123.76000213623048,
          128.14999389648438,
          132.75999450683594,
          134.8000030517578,
          132.5800018310547,
          139.8800048828125,
          128.2899932861328,
          122.38999938964844,
          122.0999984741211,
          126,
          128.57000732421875,
          130.47000122070312,
          130.38999938964844,
          131,
          124.56999969482422,
          122.95999908447266,
          130.10000610351562,
          135.13999938964844,
          132.47000122070312,
          137.2100067138672,
          146.89999389648438,
          139.63999938964844,
          140.0800018310547,
          137.1699981689453,
          139.52000427246094,
          149.9499969482422,
          156.47000122070312,
          159.6300048828125,
          162.47000122070312,
          166.0500030517578,
          166.92999267578125,
          167.11000061035156,
          164.02000427246094,
          163.16000366210938,
          157.14999389648438,
          153.86000061035156,
          147.91000366210938,
          145.85000610351562,
          141.64999389648438,
          140.44000244140625,
          145.88999938964844,
          155.11000061035156,
          156.74000549316406,
          162.3148956298828
         ],
         "open": [
          67.05999755859375,
          67.75,
          66.95999908447266,
          67,
          60.77000045776367,
          56.75,
          58.43000030517578,
          61.72999954223633,
          65.22000122070312,
          68.5,
          71.87000274658203,
          70.20999908447266,
          71.4800033569336,
          70.55000305175781,
          72.75,
          81.9800033569336,
          82.16000366210938,
          76.05000305175781,
          77.9800033569336,
          69.41000366210938,
          73,
          75.54000091552734,
          76.69999694824219,
          74.87999725341797,
          76.80999755859375,
          80.19000244140625,
          74.83000183105469,
          72.36000061035156,
          71.41999816894531,
          68.91000366210938,
          70.7699966430664,
          71.70999908447266,
          70.11000061035156,
          73.66000366210938,
          72.80000305175781,
          75.22000122070312,
          74.22000122070312,
          75.83999633789062,
          77.04000091552734,
          77.37000274658203,
          79.05999755859375,
          80.58999633789062,
          81.9000015258789,
          81.05000305175781,
          86.55999755859375,
          82.13999938964844,
          82.69000244140625,
          80.58999633789062,
          81.7300033569336,
          85.69999694824219,
          84.69000244140625,
          87.2300033569336,
          83.4000015258789,
          83.04000091552734,
          81.5,
          83.11000061035156,
          82.51000213623047,
          81.91999816894531,
          86.55000305175781,
          84.16999816894531,
          82.73999786376953,
          82.05999755859375,
          82.43000030517578,
          79.94999694824219,
          76.6500015258789,
          72.41999816894531,
          73.83000183105469,
          70.58999633789062,
          75.01000213623047,
          70.5999984741211,
          51.18999862670898,
          44.02000045776367,
          54.790000915527344,
          52.11000061035156,
          61.970001220703125,
          57.16999816894531,
          59.11000061035156,
          62.959999084472656,
          63.400001525878906,
          60.70000076293945,
          65.6500015258789,
          64.55999755859375,
          75.25,
          64.02999877929688,
          66.52999877929688,
          61.220001220703125,
          63.27999877929688,
          62.11000061035156,
          60.66999816894531,
          60.02000045776367,
          59.81999969482422,
          64,
          70.6500015258789,
          68.05000305175781,
          69.75,
          71.29000091552734,
          67.47000122070312,
          64.19999694824219,
          65.4000015258789,
          66.12999725341797,
          67.4000015258789,
          69.30000305175781,
          68.47000122070312,
          65.62000274658203,
          67.81999969482422,
          69.30000305175781,
          67.94000244140625,
          68.55000305175781,
          71.58000183105469,
          76.08000183105469,
          72.81999969482422,
          74.38999938964844,
          74.48999786376953,
          78.18000030517578,
          80.83000183105469,
          78.62999725341797,
          76.33999633789062,
          80.8499984741211,
          84.66000366210938,
          82.62999725341797,
          86.94999694824219,
          91.08000183105467,
          99.5500030517578,
          102.54000091552734,
          100.69000244140624,
          102.01000213623048,
          100.58000183105467,
          100.75,
          101.4000015258789,
          104.02999877929688,
          102.3000030517578,
          103.20999908447266,
          102.76000213623048,
          101.41999816894533,
          100.12000274658205,
          103.6500015258789,
          98.55999755859376,
          102.91999816894533,
          100.58000183105467,
          98.29000091552734,
          94.9000015258789,
          97.02999877929688,
          97.5,
          98.6500015258789,
          99.6999969482422,
          99.43000030517578,
          99.04000091552734,
          100.4000015258789,
          98.91999816894533,
          98.4800033569336,
          106.7300033569336,
          112.6500015258789,
          116.97000122070312,
          117.5199966430664,
          122.33000183105467,
          126.08999633789062,
          134.3699951171875,
          131.52999877929688,
          127.95999908447266,
          125.93000030517578,
          123.37000274658205,
          120.30999755859376,
          115.58000183105467,
          121.30999755859376,
          125.66000366210938,
          127.25,
          128.3000030517578,
          122.0999984741211,
          117.93000030517578,
          123.7699966430664,
          123.5999984741211,
          124.08000183105467,
          123.87000274658205,
          118,
          125.23999786376952,
          120.51000213623048,
          116,
          109.23999786376952,
          109,
          109.4800033569336,
          105.0999984741211,
          101.97000122070312,
          105.2300033569336,
          101.23999786376952,
          100.98999786376952,
          103,
          103.0500030517578,
          94.72000122070312,
          94.56999969482422,
          99.44000244140624,
          97.11000061035156,
          97.62000274658205,
          97.9000015258789,
          102.2300033569336,
          109.68000030517578,
          109.3499984741211,
          114.98999786376952,
          113.12999725341795,
          110.66999816894533,
          107.9499969482422,
          106.94000244140624,
          103.81999969482422,
          104,
          100.29000091552734,
          101.61000061035156,
          107.18000030517578,
          108.5999984741211,
          114.16999816894533,
          114.8000030517578,
          120.87000274658205,
          123.37000274658205,
          124.66000366210938,
          124.29000091552734,
          119.48999786376952,
          115.16999816894533,
          115.02999877929688,
          113.83999633789062,
          120.9800033569336,
          125.5999984741211,
          124.76000213623048,
          131.7899932861328,
          133.9600067138672,
          138.36000061035156,
          137.94000244140625,
          141.94000244140625,
          147.50999450683594,
          125.6500015258789,
          128.33999633789062,
          127.54000091552734,
          133.77000427246094,
          132.80999755859375,
          131,
          135.4199981689453,
          132.97000122070312,
          130.07000732421875,
          130.10000610351562,
          141.33999633789062,
          136.8800048828125,
          140.0800018310547,
          150.02999877929688,
          148.38999938964844,
          141.13999938964844,
          143.25999450683594,
          139.6199951171875,
          149.9499969482422,
          156.5,
          160.77999877929688,
          170.52000427246094,
          178.50999450683594,
          171.5,
          167.11000061035156,
          169.3800048828125,
          168.47999572753906,
          166.41000366210938,
          157.60000610351562,
          154.07000732421875,
          150.5500030517578,
          147.1699981689453,
          140.4499969482422,
          146.63999938964844,
          162.47000122070312,
          156.94000244140625,
          167.35000610351562
         ],
         "type": "candlestick",
         "x": [
          "2018-11-12",
          "2018-11-19",
          "2018-11-26",
          "2018-12-03",
          "2018-12-10",
          "2018-12-17",
          "2018-12-24",
          "2018-12-31",
          "2019-01-07",
          "2019-01-14",
          "2019-01-21",
          "2019-01-28",
          "2019-02-04",
          "2019-02-11",
          "2019-02-18",
          "2019-02-25",
          "2019-03-04",
          "2019-03-11",
          "2019-03-18",
          "2019-03-25",
          "2019-04-01",
          "2019-04-08",
          "2019-04-15",
          "2019-04-22",
          "2019-04-29",
          "2019-05-06",
          "2019-05-13",
          "2019-05-20",
          "2019-05-27",
          "2019-06-03",
          "2019-06-10",
          "2019-06-17",
          "2019-06-24",
          "2019-07-01",
          "2019-07-08",
          "2019-07-15",
          "2019-07-22",
          "2019-07-29",
          "2019-08-05",
          "2019-08-12",
          "2019-08-19",
          "2019-08-26",
          "2019-09-02",
          "2019-09-09",
          "2019-09-16",
          "2019-09-23",
          "2019-09-30",
          "2019-10-07",
          "2019-10-14",
          "2019-10-21",
          "2019-10-28",
          "2019-11-04",
          "2019-11-11",
          "2019-11-18",
          "2019-11-25",
          "2019-12-02",
          "2019-12-09",
          "2019-12-16",
          "2019-12-23",
          "2019-12-30",
          "2020-01-06",
          "2020-01-13",
          "2020-01-20",
          "2020-01-27",
          "2020-02-03",
          "2020-02-10",
          "2020-02-17",
          "2020-02-24",
          "2020-03-02",
          "2020-03-09",
          "2020-03-16",
          "2020-03-23",
          "2020-03-30",
          "2020-04-06",
          "2020-04-13",
          "2020-04-20",
          "2020-04-27",
          "2020-05-04",
          "2020-05-11",
          "2020-05-18",
          "2020-05-25",
          "2020-06-01",
          "2020-06-08",
          "2020-06-15",
          "2020-06-22",
          "2020-06-29",
          "2020-07-06",
          "2020-07-13",
          "2020-07-20",
          "2020-07-27",
          "2020-08-03",
          "2020-08-10",
          "2020-08-17",
          "2020-08-24",
          "2020-08-31",
          "2020-09-07",
          "2020-09-14",
          "2020-09-21",
          "2020-09-28",
          "2020-10-05",
          "2020-10-12",
          "2020-10-19",
          "2020-10-26",
          "2020-11-02",
          "2020-11-09",
          "2020-11-16",
          "2020-11-23",
          "2020-11-30",
          "2020-12-07",
          "2020-12-14",
          "2020-12-21",
          "2020-12-28",
          "2021-01-04",
          "2021-01-11",
          "2021-01-18",
          "2021-01-25",
          "2021-02-01",
          "2021-02-08",
          "2021-02-15",
          "2021-02-22",
          "2021-03-01",
          "2021-03-08",
          "2021-03-15",
          "2021-03-22",
          "2021-03-29",
          "2021-04-05",
          "2021-04-12",
          "2021-04-19",
          "2021-04-26",
          "2021-05-03",
          "2021-05-10",
          "2021-05-17",
          "2021-05-24",
          "2021-05-31",
          "2021-06-07",
          "2021-06-14",
          "2021-06-21",
          "2021-06-28",
          "2021-07-05",
          "2021-07-12",
          "2021-07-19",
          "2021-07-26",
          "2021-08-02",
          "2021-08-09",
          "2021-08-16",
          "2021-08-23",
          "2021-08-30",
          "2021-09-06",
          "2021-09-13",
          "2021-09-20",
          "2021-09-27",
          "2021-10-04",
          "2021-10-11",
          "2021-10-18",
          "2021-10-25",
          "2021-11-01",
          "2021-11-08",
          "2021-11-15",
          "2021-11-22",
          "2021-11-29",
          "2021-12-06",
          "2021-12-13",
          "2021-12-20",
          "2021-12-27",
          "2022-01-03",
          "2022-01-10",
          "2022-01-17",
          "2022-01-24",
          "2022-01-31",
          "2022-02-07",
          "2022-02-14",
          "2022-02-21",
          "2022-02-28",
          "2022-03-07",
          "2022-03-14",
          "2022-03-21",
          "2022-03-28",
          "2022-04-04",
          "2022-04-11",
          "2022-04-18",
          "2022-04-25",
          "2022-05-02",
          "2022-05-09",
          "2022-05-16",
          "2022-05-23",
          "2022-05-30",
          "2022-06-06",
          "2022-06-13",
          "2022-06-20",
          "2022-06-27",
          "2022-07-04",
          "2022-07-11",
          "2022-07-18",
          "2022-07-25",
          "2022-08-01",
          "2022-08-08",
          "2022-08-15",
          "2022-08-22",
          "2022-08-29",
          "2022-09-05",
          "2022-09-12",
          "2022-09-19",
          "2022-09-26",
          "2022-10-03",
          "2022-10-10",
          "2022-10-17",
          "2022-10-24",
          "2022-10-31",
          "2022-11-07",
          "2022-11-14",
          "2022-11-21",
          "2022-11-28",
          "2022-12-05",
          "2022-12-12",
          "2022-12-19",
          "2022-12-26",
          "2023-01-02",
          "2023-01-09",
          "2023-01-16",
          "2023-01-23",
          "2023-01-30",
          "2023-02-06",
          "2023-02-13",
          "2023-02-20",
          "2023-02-27",
          "2023-03-06",
          "2023-03-13",
          "2023-03-20",
          "2023-03-27",
          "2023-04-03",
          "2023-04-10",
          "2023-04-17",
          "2023-04-24",
          "2023-05-01",
          "2023-05-08",
          "2023-05-15",
          "2023-05-22",
          "2023-05-29",
          "2023-06-05",
          "2023-06-12",
          "2023-06-19",
          "2023-06-26",
          "2023-07-03",
          "2023-07-10",
          "2023-07-17",
          "2023-07-24",
          "2023-07-31",
          "2023-08-07",
          "2023-08-14",
          "2023-08-21",
          "2023-08-28",
          "2023-09-04",
          "2023-09-11",
          "2023-09-18",
          "2023-09-25",
          "2023-10-02",
          "2023-10-09",
          "2023-10-16",
          "2023-10-23",
          "2023-10-30",
          "2023-11-06",
          "2023-11-13",
          "2023-11-16 16:00:01-05:00"
         ]
        }
       ],
       "layout": {
        "autosize": true,
        "font": {
         "color": "#7f7f7f",
         "family": "Courier New, monospace",
         "size": 18
        },
        "height": 600,
        "template": {
         "data": {
          "bar": [
           {
            "error_x": {
             "color": "#2a3f5f"
            },
            "error_y": {
             "color": "#2a3f5f"
            },
            "marker": {
             "line": {
              "color": "#E5ECF6",
              "width": 0.5
             },
             "pattern": {
              "fillmode": "overlay",
              "size": 10,
              "solidity": 0.2
             }
            },
            "type": "bar"
           }
          ],
          "barpolar": [
           {
            "marker": {
             "line": {
              "color": "#E5ECF6",
              "width": 0.5
             },
             "pattern": {
              "fillmode": "overlay",
              "size": 10,
              "solidity": 0.2
             }
            },
            "type": "barpolar"
           }
          ],
          "carpet": [
           {
            "aaxis": {
             "endlinecolor": "#2a3f5f",
             "gridcolor": "white",
             "linecolor": "white",
             "minorgridcolor": "white",
             "startlinecolor": "#2a3f5f"
            },
            "baxis": {
             "endlinecolor": "#2a3f5f",
             "gridcolor": "white",
             "linecolor": "white",
             "minorgridcolor": "white",
             "startlinecolor": "#2a3f5f"
            },
            "type": "carpet"
           }
          ],
          "choropleth": [
           {
            "colorbar": {
             "outlinewidth": 0,
             "ticks": ""
            },
            "type": "choropleth"
           }
          ],
          "contour": [
           {
            "colorbar": {
             "outlinewidth": 0,
             "ticks": ""
            },
            "colorscale": [
             [
              0,
              "#0d0887"
             ],
             [
              0.1111111111111111,
              "#46039f"
             ],
             [
              0.2222222222222222,
              "#7201a8"
             ],
             [
              0.3333333333333333,
              "#9c179e"
             ],
             [
              0.4444444444444444,
              "#bd3786"
             ],
             [
              0.5555555555555556,
              "#d8576b"
             ],
             [
              0.6666666666666666,
              "#ed7953"
             ],
             [
              0.7777777777777778,
              "#fb9f3a"
             ],
             [
              0.8888888888888888,
              "#fdca26"
             ],
             [
              1,
              "#f0f921"
             ]
            ],
            "type": "contour"
           }
          ],
          "contourcarpet": [
           {
            "colorbar": {
             "outlinewidth": 0,
             "ticks": ""
            },
            "type": "contourcarpet"
           }
          ],
          "heatmap": [
           {
            "colorbar": {
             "outlinewidth": 0,
             "ticks": ""
            },
            "colorscale": [
             [
              0,
              "#0d0887"
             ],
             [
              0.1111111111111111,
              "#46039f"
             ],
             [
              0.2222222222222222,
              "#7201a8"
             ],
             [
              0.3333333333333333,
              "#9c179e"
             ],
             [
              0.4444444444444444,
              "#bd3786"
             ],
             [
              0.5555555555555556,
              "#d8576b"
             ],
             [
              0.6666666666666666,
              "#ed7953"
             ],
             [
              0.7777777777777778,
              "#fb9f3a"
             ],
             [
              0.8888888888888888,
              "#fdca26"
             ],
             [
              1,
              "#f0f921"
             ]
            ],
            "type": "heatmap"
           }
          ],
          "heatmapgl": [
           {
            "colorbar": {
             "outlinewidth": 0,
             "ticks": ""
            },
            "colorscale": [
             [
              0,
              "#0d0887"
             ],
             [
              0.1111111111111111,
              "#46039f"
             ],
             [
              0.2222222222222222,
              "#7201a8"
             ],
             [
              0.3333333333333333,
              "#9c179e"
             ],
             [
              0.4444444444444444,
              "#bd3786"
             ],
             [
              0.5555555555555556,
              "#d8576b"
             ],
             [
              0.6666666666666666,
              "#ed7953"
             ],
             [
              0.7777777777777778,
              "#fb9f3a"
             ],
             [
              0.8888888888888888,
              "#fdca26"
             ],
             [
              1,
              "#f0f921"
             ]
            ],
            "type": "heatmapgl"
           }
          ],
          "histogram": [
           {
            "marker": {
             "pattern": {
              "fillmode": "overlay",
              "size": 10,
              "solidity": 0.2
             }
            },
            "type": "histogram"
           }
          ],
          "histogram2d": [
           {
            "colorbar": {
             "outlinewidth": 0,
             "ticks": ""
            },
            "colorscale": [
             [
              0,
              "#0d0887"
             ],
             [
              0.1111111111111111,
              "#46039f"
             ],
             [
              0.2222222222222222,
              "#7201a8"
             ],
             [
              0.3333333333333333,
              "#9c179e"
             ],
             [
              0.4444444444444444,
              "#bd3786"
             ],
             [
              0.5555555555555556,
              "#d8576b"
             ],
             [
              0.6666666666666666,
              "#ed7953"
             ],
             [
              0.7777777777777778,
              "#fb9f3a"
             ],
             [
              0.8888888888888888,
              "#fdca26"
             ],
             [
              1,
              "#f0f921"
             ]
            ],
            "type": "histogram2d"
           }
          ],
          "histogram2dcontour": [
           {
            "colorbar": {
             "outlinewidth": 0,
             "ticks": ""
            },
            "colorscale": [
             [
              0,
              "#0d0887"
             ],
             [
              0.1111111111111111,
              "#46039f"
             ],
             [
              0.2222222222222222,
              "#7201a8"
             ],
             [
              0.3333333333333333,
              "#9c179e"
             ],
             [
              0.4444444444444444,
              "#bd3786"
             ],
             [
              0.5555555555555556,
              "#d8576b"
             ],
             [
              0.6666666666666666,
              "#ed7953"
             ],
             [
              0.7777777777777778,
              "#fb9f3a"
             ],
             [
              0.8888888888888888,
              "#fdca26"
             ],
             [
              1,
              "#f0f921"
             ]
            ],
            "type": "histogram2dcontour"
           }
          ],
          "mesh3d": [
           {
            "colorbar": {
             "outlinewidth": 0,
             "ticks": ""
            },
            "type": "mesh3d"
           }
          ],
          "parcoords": [
           {
            "line": {
             "colorbar": {
              "outlinewidth": 0,
              "ticks": ""
             }
            },
            "type": "parcoords"
           }
          ],
          "pie": [
           {
            "automargin": true,
            "type": "pie"
           }
          ],
          "scatter": [
           {
            "fillpattern": {
             "fillmode": "overlay",
             "size": 10,
             "solidity": 0.2
            },
            "type": "scatter"
           }
          ],
          "scatter3d": [
           {
            "line": {
             "colorbar": {
              "outlinewidth": 0,
              "ticks": ""
             }
            },
            "marker": {
             "colorbar": {
              "outlinewidth": 0,
              "ticks": ""
             }
            },
            "type": "scatter3d"
           }
          ],
          "scattercarpet": [
           {
            "marker": {
             "colorbar": {
              "outlinewidth": 0,
              "ticks": ""
             }
            },
            "type": "scattercarpet"
           }
          ],
          "scattergeo": [
           {
            "marker": {
             "colorbar": {
              "outlinewidth": 0,
              "ticks": ""
             }
            },
            "type": "scattergeo"
           }
          ],
          "scattergl": [
           {
            "marker": {
             "colorbar": {
              "outlinewidth": 0,
              "ticks": ""
             }
            },
            "type": "scattergl"
           }
          ],
          "scattermapbox": [
           {
            "marker": {
             "colorbar": {
              "outlinewidth": 0,
              "ticks": ""
             }
            },
            "type": "scattermapbox"
           }
          ],
          "scatterpolar": [
           {
            "marker": {
             "colorbar": {
              "outlinewidth": 0,
              "ticks": ""
             }
            },
            "type": "scatterpolar"
           }
          ],
          "scatterpolargl": [
           {
            "marker": {
             "colorbar": {
              "outlinewidth": 0,
              "ticks": ""
             }
            },
            "type": "scatterpolargl"
           }
          ],
          "scatterternary": [
           {
            "marker": {
             "colorbar": {
              "outlinewidth": 0,
              "ticks": ""
             }
            },
            "type": "scatterternary"
           }
          ],
          "surface": [
           {
            "colorbar": {
             "outlinewidth": 0,
             "ticks": ""
            },
            "colorscale": [
             [
              0,
              "#0d0887"
             ],
             [
              0.1111111111111111,
              "#46039f"
             ],
             [
              0.2222222222222222,
              "#7201a8"
             ],
             [
              0.3333333333333333,
              "#9c179e"
             ],
             [
              0.4444444444444444,
              "#bd3786"
             ],
             [
              0.5555555555555556,
              "#d8576b"
             ],
             [
              0.6666666666666666,
              "#ed7953"
             ],
             [
              0.7777777777777778,
              "#fb9f3a"
             ],
             [
              0.8888888888888888,
              "#fdca26"
             ],
             [
              1,
              "#f0f921"
             ]
            ],
            "type": "surface"
           }
          ],
          "table": [
           {
            "cells": {
             "fill": {
              "color": "#EBF0F8"
             },
             "line": {
              "color": "white"
             }
            },
            "header": {
             "fill": {
              "color": "#C8D4E3"
             },
             "line": {
              "color": "white"
             }
            },
            "type": "table"
           }
          ]
         },
         "layout": {
          "annotationdefaults": {
           "arrowcolor": "#2a3f5f",
           "arrowhead": 0,
           "arrowwidth": 1
          },
          "autotypenumbers": "strict",
          "coloraxis": {
           "colorbar": {
            "outlinewidth": 0,
            "ticks": ""
           }
          },
          "colorscale": {
           "diverging": [
            [
             0,
             "#8e0152"
            ],
            [
             0.1,
             "#c51b7d"
            ],
            [
             0.2,
             "#de77ae"
            ],
            [
             0.3,
             "#f1b6da"
            ],
            [
             0.4,
             "#fde0ef"
            ],
            [
             0.5,
             "#f7f7f7"
            ],
            [
             0.6,
             "#e6f5d0"
            ],
            [
             0.7,
             "#b8e186"
            ],
            [
             0.8,
             "#7fbc41"
            ],
            [
             0.9,
             "#4d9221"
            ],
            [
             1,
             "#276419"
            ]
           ],
           "sequential": [
            [
             0,
             "#0d0887"
            ],
            [
             0.1111111111111111,
             "#46039f"
            ],
            [
             0.2222222222222222,
             "#7201a8"
            ],
            [
             0.3333333333333333,
             "#9c179e"
            ],
            [
             0.4444444444444444,
             "#bd3786"
            ],
            [
             0.5555555555555556,
             "#d8576b"
            ],
            [
             0.6666666666666666,
             "#ed7953"
            ],
            [
             0.7777777777777778,
             "#fb9f3a"
            ],
            [
             0.8888888888888888,
             "#fdca26"
            ],
            [
             1,
             "#f0f921"
            ]
           ],
           "sequentialminus": [
            [
             0,
             "#0d0887"
            ],
            [
             0.1111111111111111,
             "#46039f"
            ],
            [
             0.2222222222222222,
             "#7201a8"
            ],
            [
             0.3333333333333333,
             "#9c179e"
            ],
            [
             0.4444444444444444,
             "#bd3786"
            ],
            [
             0.5555555555555556,
             "#d8576b"
            ],
            [
             0.6666666666666666,
             "#ed7953"
            ],
            [
             0.7777777777777778,
             "#fb9f3a"
            ],
            [
             0.8888888888888888,
             "#fdca26"
            ],
            [
             1,
             "#f0f921"
            ]
           ]
          },
          "colorway": [
           "#636efa",
           "#EF553B",
           "#00cc96",
           "#ab63fa",
           "#FFA15A",
           "#19d3f3",
           "#FF6692",
           "#B6E880",
           "#FF97FF",
           "#FECB52"
          ],
          "font": {
           "color": "#2a3f5f"
          },
          "geo": {
           "bgcolor": "white",
           "lakecolor": "white",
           "landcolor": "#E5ECF6",
           "showlakes": true,
           "showland": true,
           "subunitcolor": "white"
          },
          "hoverlabel": {
           "align": "left"
          },
          "hovermode": "closest",
          "mapbox": {
           "style": "light"
          },
          "paper_bgcolor": "white",
          "plot_bgcolor": "#E5ECF6",
          "polar": {
           "angularaxis": {
            "gridcolor": "white",
            "linecolor": "white",
            "ticks": ""
           },
           "bgcolor": "#E5ECF6",
           "radialaxis": {
            "gridcolor": "white",
            "linecolor": "white",
            "ticks": ""
           }
          },
          "scene": {
           "xaxis": {
            "backgroundcolor": "#E5ECF6",
            "gridcolor": "white",
            "gridwidth": 2,
            "linecolor": "white",
            "showbackground": true,
            "ticks": "",
            "zerolinecolor": "white"
           },
           "yaxis": {
            "backgroundcolor": "#E5ECF6",
            "gridcolor": "white",
            "gridwidth": 2,
            "linecolor": "white",
            "showbackground": true,
            "ticks": "",
            "zerolinecolor": "white"
           },
           "zaxis": {
            "backgroundcolor": "#E5ECF6",
            "gridcolor": "white",
            "gridwidth": 2,
            "linecolor": "white",
            "showbackground": true,
            "ticks": "",
            "zerolinecolor": "white"
           }
          },
          "shapedefaults": {
           "line": {
            "color": "#2a3f5f"
           }
          },
          "ternary": {
           "aaxis": {
            "gridcolor": "white",
            "linecolor": "white",
            "ticks": ""
           },
           "baxis": {
            "gridcolor": "white",
            "linecolor": "white",
            "ticks": ""
           },
           "bgcolor": "#E5ECF6",
           "caxis": {
            "gridcolor": "white",
            "linecolor": "white",
            "ticks": ""
           }
          },
          "title": {
           "x": 0.05
          },
          "xaxis": {
           "automargin": true,
           "gridcolor": "white",
           "linecolor": "white",
           "ticks": "",
           "title": {
            "standoff": 15
           },
           "zerolinecolor": "white",
           "zerolinewidth": 2
          },
          "yaxis": {
           "automargin": true,
           "gridcolor": "white",
           "linecolor": "white",
           "ticks": "",
           "title": {
            "standoff": 15
           },
           "zerolinecolor": "white",
           "zerolinewidth": 2
          }
         }
        },
        "title": {
         "text": " Stock Price"
        },
        "width": 1000,
        "xaxis": {
         "rangeslider": {
          "visible": false
         },
         "title": {
          "text": "Date"
         }
        },
        "yaxis": {
         "title": {
          "text": "Price"
         }
        }
       }
      }
     },
     "metadata": {},
     "output_type": "display_data"
    }
   ],
   "source": [
    "candlestic = plot_candlestick(df, ma=False)\n",
    "candlestic.show()"
   ]
  },
  {
   "cell_type": "code",
   "execution_count": 222,
   "metadata": {},
   "outputs": [],
   "source": [
    "# cross = ta.cross(stock_df['EMA_50'], stock_df['EMA_100'], above=True)\n",
    "\n",
    "# # check where the cross happened\n",
    "# cross[cross == True]"
   ]
  },
  {
   "cell_type": "markdown",
   "metadata": {},
   "source": [
    "# Extract Fundamental Data from Yahoo Finance"
   ]
  },
  {
   "cell_type": "code",
   "execution_count": null,
   "metadata": {},
   "outputs": [
    {
     "data": {
      "text/html": [
       "<div>\n",
       "<style scoped>\n",
       "    .dataframe tbody tr th:only-of-type {\n",
       "        vertical-align: middle;\n",
       "    }\n",
       "\n",
       "    .dataframe tbody tr th {\n",
       "        vertical-align: top;\n",
       "    }\n",
       "\n",
       "    .dataframe thead th {\n",
       "        text-align: right;\n",
       "    }\n",
       "</style>\n",
       "<table border=\"1\" class=\"dataframe\">\n",
       "  <thead>\n",
       "    <tr style=\"text-align: right;\">\n",
       "      <th></th>\n",
       "      <th>Name</th>\n",
       "      <th>Sector</th>\n",
       "      <th>Industry</th>\n",
       "      <th>Summary</th>\n",
       "    </tr>\n",
       "  </thead>\n",
       "  <tbody>\n",
       "    <tr>\n",
       "      <th>0</th>\n",
       "      <td>MYR Group, Inc.</td>\n",
       "      <td>Industrials</td>\n",
       "      <td>Engineering &amp; Construction</td>\n",
       "      <td>MYR Group Inc., through its subsidiaries, prov...</td>\n",
       "    </tr>\n",
       "  </tbody>\n",
       "</table>\n",
       "</div>"
      ],
      "text/plain": [
       "              Name       Sector                    Industry  \\\n",
       "0  MYR Group, Inc.  Industrials  Engineering & Construction   \n",
       "\n",
       "                                             Summary  \n",
       "0  MYR Group Inc., through its subsidiaries, prov...  "
      ]
     },
     "metadata": {},
     "output_type": "display_data"
    }
   ],
   "source": [
    "# check if ticker is a ETF or stock\n",
    "security_type = ticker.price[ticker_string]['quoteType']\n",
    "if security_type == 'ETF':\n",
    "    stock = False\n",
    "else:\n",
    "    stock = True\n",
    "\n",
    "\n",
    "\n",
    "\n",
    "if stock:\n",
    "    name = ticker.price[ticker_string]['shortName']\n",
    "    sector = ticker.summary_profile[ticker_string]['sector']\n",
    "    industry = ticker.summary_profile[ticker_string]['industry']\n",
    "    holdings = 'NA'\n",
    "    summary = ticker.summary_profile[ticker_string]['longBusinessSummary']\n",
    "        # employees = ticker.summary_profile[ticker_string]['fullTimeEmployees']\n",
    "        # country = ticker.summary_profile[ticker_string]['country']\n",
    "        # city = ticker.summary_profile[ticker_string]['city']\n",
    "        # website = ticker.summary_profile[ticker_string]['website']\n",
    "\n",
    "    # create a dictionary with the required keys and values\n",
    "    fundamental_data = {'Name': [name], 'Sector': [sector], 'Industry': [industry], 'Summary': [summary]}\n",
    "\n",
    "    # pass the dictionary to the pandas DataFrame constructor\n",
    "    fundamental_df = pd.DataFrame(fundamental_data)\n",
    "\n",
    "    # display fundamental data\n",
    "    display(fundamental_df)\n",
    "else:\n",
    "    pass"
   ]
  },
  {
   "cell_type": "code",
   "execution_count": null,
   "metadata": {},
   "outputs": [],
   "source": [
    "\n",
    "if stock:\n",
    "    # This is a summary of the company's financial data\n",
    "    valuation_df = ticker.valuation_measures\n",
    "    # Restrict valuation_df to periodType = 'TTM'\n",
    "    valuation_df = valuation_df[valuation_df['periodType'] == 'TTM']\n",
    "    financial_dict = ticker.financial_data[ticker_string]\n",
    "    financial_df = pd.DataFrame.from_dict(financial_dict, orient='index').reset_index().rename(columns={'index': 'Metric', 0: 'Value'})\n",
    "\n",
    "    # # More detailed financial data for the company\n",
    "    \n",
    "    # income_df = ticker.income_statement()\n",
    "    # balance_df = ticker.balance_sheet()\n",
    "    # cash_df = ticker.cash_flow()\n",
    "   \n",
    "\n",
    "else:\n",
    "    holdings = ticker.fund_holding_info[ticker_string]['holdings']\n",
    "    top_holdings_df = pd.DataFrame(holdings)\n",
    "    # Rename the columns\n",
    "    top_holdings_df.columns = ['Symbol','Name', 'Percent']\n",
    "    # Express the holdings column as a percentage\n",
    "    top_holdings_df['Percent'] = top_holdings_df['Percent'].apply(lambda x: x * 100)\n",
    "    # Add a column to the dataframe with today's date\n",
    "    top_holdings_df['Date'] = today\n",
    "    # # Display the dataframe\n",
    "    # display(top_holdings_df)\n",
    "\n"
   ]
  },
  {
   "cell_type": "code",
   "execution_count": null,
   "metadata": {},
   "outputs": [],
   "source": [
    "# balance_df.reset_index(inplace=True)\n",
    "# # Convert asOfDate column to year only\n",
    "# balance_df['asOfDate'] = balance_df['asOfDate'].dt.year\n",
    "# # Rename asOfDate column to year\n",
    "# balance_df.rename(columns={'asOfDate': 'Year'}, inplace=True) \n",
    "\n",
    "# rev_df = get_financials(df=income_df, col_name='TotalRevenue', metric_name='Total Revenue')\n",
    "# # Convert Year column to year only\n",
    "# rev_df['Year'] = rev_df['Year'].dt.year \n",
    "\n",
    "# marketcap_df = get_financials(df=valuation_df, col_name='MarketCap', metric_name='Market Cap') # This is updated quarterly\n",
    "\n",
    "# ebitda_df = get_financials(df=income_df, col_name='NormalizedEBITDA', metric_name='EBITDA')\n",
    "# # Convert Year column to year only\n",
    "# ebitda_df['Year'] = ebitda_df['Year'].dt.year\n",
    "\n",
    "\n",
    "# rev_fig = bar_chart(df=rev_df, x='Year', y='Total Revenue', title='Total Revenue USD')\n",
    "# rev_fig.show()\n",
    "\n",
    "# marketcap_fig = line_chart(df=marketcap_df, x='Year', y='Market Cap', title='Market Cap USD')\n",
    "# marketcap_fig.show()\n",
    "\n",
    "\n",
    "# ebitda_fig = bar_chart(df=ebitda_df, x='Year', y='EBITDA', title='EBITDA USD')\n",
    "# ebitda_fig.show()"
   ]
  }
 ],
 "metadata": {
  "kernelspec": {
   "display_name": "yahoo_finance",
   "language": "python",
   "name": "python3"
  },
  "language_info": {
   "codemirror_mode": {
    "name": "ipython",
    "version": 3
   },
   "file_extension": ".py",
   "mimetype": "text/x-python",
   "name": "python",
   "nbconvert_exporter": "python",
   "pygments_lexer": "ipython3",
   "version": "3.12.0"
  }
 },
 "nbformat": 4,
 "nbformat_minor": 2
}
